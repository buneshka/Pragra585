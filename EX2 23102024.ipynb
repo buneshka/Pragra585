{
 "cells": [
  {
   "cell_type": "code",
   "execution_count": 0,
   "metadata": {
    "application/vnd.databricks.v1+cell": {
     "cellMetadata": {
      "byteLimit": 2048000,
      "rowLimit": 10000
     },
     "inputWidgets": {},
     "nuid": "8777fb12-a776-416e-871c-83d778f06a90",
     "showTitle": false,
     "title": ""
    }
   },
   "outputs": [],
   "source": []
  },
  {
   "cell_type": "code",
   "execution_count": 0,
   "metadata": {
    "application/vnd.databricks.v1+cell": {
     "cellMetadata": {
      "byteLimit": 2048000,
      "rowLimit": 10000
     },
     "inputWidgets": {},
     "nuid": "14194149-1a19-4b9b-bc6b-ddd5ce43e6cd",
     "showTitle": false,
     "title": ""
    }
   },
   "outputs": [],
   "source": [
    "spark.conf.set(\n",
    "    \"fs.azure.account.key.bp040storage.dfs.core.windows.net\",\n",
    "    \"kiENG28kPnyzB+dA3xwAxlcWC5eHv56ldDJidJPlneDLglk3zhWyPkLZL+TOOzfqiyFn7i9Ys7x3+AStxKkaaQ==\")"
   ]
  },
  {
   "cell_type": "code",
   "execution_count": 0,
   "metadata": {
    "application/vnd.databricks.v1+cell": {
     "cellMetadata": {
      "byteLimit": 2048000,
      "rowLimit": 10000
     },
     "inputWidgets": {},
     "nuid": "91669ce3-8318-45a5-9589-b00346184037",
     "showTitle": false,
     "title": ""
    }
   },
   "outputs": [
    {
     "output_type": "display_data",
     "data": {
      "text/html": [
       "<style scoped>\n",
       "  .table-result-container {\n",
       "    max-height: 300px;\n",
       "    overflow: auto;\n",
       "  }\n",
       "  table, th, td {\n",
       "    border: 1px solid black;\n",
       "    border-collapse: collapse;\n",
       "  }\n",
       "  th, td {\n",
       "    padding: 5px;\n",
       "  }\n",
       "  th {\n",
       "    text-align: left;\n",
       "  }\n",
       "</style><div class='table-result-container'><table class='table-result'><thead style='background-color: white'><tr><th>path</th><th>name</th><th>size</th><th>modificationTime</th></tr></thead><tbody><tr><td>abfss://bp040container@bp040storage.dfs.core.windows.net/raw/</td><td>raw/</td><td>0</td><td>1729970244000</td></tr></tbody></table></div>"
      ]
     },
     "metadata": {
      "application/vnd.databricks.v1+output": {
       "addedWidgets": {},
       "aggData": [],
       "aggError": "",
       "aggOverflow": false,
       "aggSchema": [],
       "aggSeriesLimitReached": false,
       "aggType": "",
       "arguments": {},
       "columnCustomDisplayInfos": {},
       "data": [
        [
         "abfss://bp040container@bp040storage.dfs.core.windows.net/raw/",
         "raw/",
         0,
         1729970244000
        ]
       ],
       "datasetInfos": [],
       "dbfsResultPath": null,
       "isJsonSchema": true,
       "metadata": {},
       "overflow": false,
       "plotOptions": {
        "customPlotOptions": {},
        "displayType": "table",
        "pivotAggregation": null,
        "pivotColumns": null,
        "xColumns": null,
        "yColumns": null
       },
       "removedWidgets": [],
       "schema": [
        {
         "metadata": "{}",
         "name": "path",
         "type": "\"string\""
        },
        {
         "metadata": "{}",
         "name": "name",
         "type": "\"string\""
        },
        {
         "metadata": "{}",
         "name": "size",
         "type": "\"long\""
        },
        {
         "metadata": "{}",
         "name": "modificationTime",
         "type": "\"long\""
        }
       ],
       "type": "table"
      }
     },
     "output_type": "display_data"
    }
   ],
   "source": [
    "display(dbutils.fs.ls(\"abfss://bp040container@bp040storage.dfs.core.windows.net\"))"
   ]
  },
  {
   "cell_type": "code",
   "execution_count": 0,
   "metadata": {
    "application/vnd.databricks.v1+cell": {
     "cellMetadata": {
      "byteLimit": 2048000,
      "rowLimit": 10000
     },
     "inputWidgets": {},
     "nuid": "89d18e51-c8fc-463b-af2a-86575cfbf9db",
     "showTitle": false,
     "title": ""
    }
   },
   "outputs": [
    {
     "output_type": "stream",
     "name": "stdout",
     "output_type": "stream",
     "text": [
      "+-------+-----------+-------------------+----------+------------+---------+----------+-----------+\n|OrderID| CustomerID|          OrderDate| ProductID| ProductName| Quantity| UnitPrice| TotalPrice|\n+-------+-----------+-------------------+----------+------------+---------+----------+-----------+\n|      1|     1001.0|2022-01-01 00:00:00|       1.0|      Laptop|      2.0|    1000.0|     2000.0|\n|      2|     1002.0|2022-01-02 00:00:00|       2.0|  Smartphone|      3.0|     800.0|     2400.0|\n|      3|     1003.0|2022-01-03 00:00:00|       1.0|      Laptop|      1.0|    1000.0|     1000.0|\n|      4|     1001.0|2022-01-04 00:00:00|       3.0|  Headphones|      2.0|      50.0|      100.0|\n|      5|     1002.0|2022-01-05 00:00:00|       1.0|      Laptop|      2.0|    1000.0|     2000.0|\n+-------+-----------+-------------------+----------+------------+---------+----------+-----------+\nonly showing top 5 rows\n\n"
     ]
    }
   ],
   "source": [
    "df1 = spark.read.csv(\"abfss://bp040container@bp040storage.dfs.core.windows.net/raw/sales_data.csv\", header=True, inferSchema=\"true\");\n",
    "df1.show(5)"
   ]
  },
  {
   "cell_type": "code",
   "execution_count": 0,
   "metadata": {
    "application/vnd.databricks.v1+cell": {
     "cellMetadata": {
      "byteLimit": 2048000,
      "rowLimit": 10000
     },
     "inputWidgets": {},
     "nuid": "1d82faad-6568-4d20-bb1d-f2b707e46a93",
     "showTitle": false,
     "title": ""
    }
   },
   "outputs": [
    {
     "output_type": "stream",
     "name": "stdout",
     "output_type": "stream",
     "text": [
      "+-------+-----------+-------------------+----------+------------+---------+----------+-----------+----+-----+---+\n|OrderID| CustomerID|          OrderDate| ProductID| ProductName| Quantity| UnitPrice| TotalPrice|year|month|day|\n+-------+-----------+-------------------+----------+------------+---------+----------+-----------+----+-----+---+\n|      1|     1001.0|2022-01-01 00:00:00|       1.0|      Laptop|      2.0|    1000.0|     2000.0|2022|    1|  1|\n|      2|     1002.0|2022-01-02 00:00:00|       2.0|  Smartphone|      3.0|     800.0|     2400.0|2022|    1|  2|\n|      3|     1003.0|2022-01-03 00:00:00|       1.0|      Laptop|      1.0|    1000.0|     1000.0|2022|    1|  3|\n|      4|     1001.0|2022-01-04 00:00:00|       3.0|  Headphones|      2.0|      50.0|      100.0|2022|    1|  4|\n|      5|     1002.0|2022-01-05 00:00:00|       1.0|      Laptop|      2.0|    1000.0|     2000.0|2022|    1|  5|\n+-------+-----------+-------------------+----------+------------+---------+----------+-----------+----+-----+---+\nonly showing top 5 rows\n\n"
     ]
    }
   ],
   "source": [
    "from pyspark.sql.functions import *\n",
    "\n",
    "df2 = df1.withColumn(\"year\",year(\" OrderDate\")) \\\n",
    "       .withColumn(\"month\",month(\" OrderDate\")) \\\n",
    "       .withColumn(\"day\",dayofmonth(\" OrderDate\"))\n",
    "df2.show(5)"
   ]
  },
  {
   "cell_type": "code",
   "execution_count": 0,
   "metadata": {
    "application/vnd.databricks.v1+cell": {
     "cellMetadata": {
      "byteLimit": 2048000,
      "rowLimit": 10000
     },
     "inputWidgets": {},
     "nuid": "6209d038-33a1-4072-bb17-0f36962a7815",
     "showTitle": false,
     "title": ""
    }
   },
   "outputs": [],
   "source": [
    "df2.write.mode(\"overwrite\").partitionBy(\" OrderDate\").format(\"parquet\").save(\"abfss://processed1@bp040storage.dfs.core.windows.net/bcd/partition/sales\")"
   ]
  },
  {
   "cell_type": "code",
   "execution_count": 0,
   "metadata": {
    "application/vnd.databricks.v1+cell": {
     "cellMetadata": {
      "byteLimit": 2048000,
      "rowLimit": 10000
     },
     "inputWidgets": {},
     "nuid": "53441462-cded-4ef8-807f-388f38950f2e",
     "showTitle": false,
     "title": ""
    }
   },
   "outputs": [],
   "source": [
    "df2.write.mode(\"overwrite\").partitionBy(\"year\",\"month\",\"day\").format(\"parquet\").save(\"abfss://processed1@bp040storage.dfs.core.windows.net/bcd/partition/sales\")"
   ]
  },
  {
   "cell_type": "code",
   "execution_count": 0,
   "metadata": {
    "application/vnd.databricks.v1+cell": {
     "cellMetadata": {
      "byteLimit": 2048000,
      "rowLimit": 10000
     },
     "inputWidgets": {},
     "nuid": "c1f76b3c-3e40-42b6-ae99-79cb1afdf153",
     "showTitle": false,
     "title": ""
    }
   },
   "outputs": [
    {
     "output_type": "stream",
     "name": "stdout",
     "output_type": "stream",
     "text": [
      "+-------+-----------+-------------------+----------+------------+---------+----------+-----------+----+-----+---+\n|OrderID| CustomerID|          OrderDate| ProductID| ProductName| Quantity| UnitPrice| TotalPrice|year|month|day|\n+-------+-----------+-------------------+----------+------------+---------+----------+-----------+----+-----+---+\n|      9|     1003.0|2022-02-04 00:00:00|       2.0|  Smartphone|      2.0|     800.0|     1600.0|2022|    2|  4|\n|      8|     1002.0|2022-02-03 00:00:00|       3.0|  Headphones|      1.0|      50.0|       50.0|2022|    2|  3|\n|      4|     1001.0|2022-01-04 00:00:00|       3.0|  Headphones|      2.0|      50.0|      100.0|2022|    1|  4|\n|      6|     1003.0|2022-02-01 00:00:00|       2.0|  Smartphone|      4.0|     800.0|     3200.0|2022|    2|  1|\n|      2|     1002.0|2022-01-02 00:00:00|       2.0|  Smartphone|      3.0|     800.0|     2400.0|2022|    1|  2|\n|      3|     1003.0|2022-01-03 00:00:00|       1.0|      Laptop|      1.0|    1000.0|     1000.0|2022|    1|  3|\n|      1|     1001.0|2022-01-01 00:00:00|       1.0|      Laptop|      2.0|    1000.0|     2000.0|2022|    1|  1|\n|      5|     1002.0|2022-01-05 00:00:00|       1.0|      Laptop|      2.0|    1000.0|     2000.0|2022|    1|  5|\n|      7|     1001.0|2022-02-02 00:00:00|       1.0|      Laptop|      1.0|    1000.0|     1000.0|2022|    2|  2|\n|     10|     1001.0|2022-02-05 00:00:00|       1.0|      Laptop|      3.0|    1000.0|     3000.0|2022|    2|  5|\n+-------+-----------+-------------------+----------+------------+---------+----------+-----------+----+-----+---+\n\n"
     ]
    }
   ],
   "source": [
    "spark.read.format(\"parquet\").load(\"abfss://processed1@bp040storage.dfs.core.windows.net/bcd/partition/sales\").show()"
   ]
  }
 ],
 "metadata": {
  "application/vnd.databricks.v1+notebook": {
   "dashboards": [],
   "environmentMetadata": {
    "base_environment": "",
    "client": "1"
   },
   "language": "python",
   "notebookMetadata": {
    "pythonIndentUnit": 4
   },
   "notebookName": "EX2 23102024",
   "widgets": {}
  },
  "language_info": {
   "name": "python"
  }
 },
 "nbformat": 4,
 "nbformat_minor": 0
}
