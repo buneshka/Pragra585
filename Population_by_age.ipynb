{
  "nbformat": 4,
  "nbformat_minor": 0,
  "metadata": {
    "colab": {
      "provenance": [],
      "include_colab_link": true
    },
    "kernelspec": {
      "name": "python3",
      "display_name": "Python 3"
    },
    "language_info": {
      "name": "python"
    }
  },
  "cells": [
    {
      "cell_type": "markdown",
      "metadata": {
        "id": "view-in-github",
        "colab_type": "text"
      },
      "source": [
        "<a href=\"https://colab.research.google.com/github/buneshka/Pragra585/blob/main/Population_by_age.ipynb\" target=\"_parent\"><img src=\"https://colab.research.google.com/assets/colab-badge.svg\" alt=\"Open In Colab\"/></a>"
      ]
    },
    {
      "cell_type": "code",
      "execution_count": 1,
      "metadata": {
        "colab": {
          "base_uri": "https://localhost:8080/"
        },
        "id": "xoHiRZJYy38t",
        "outputId": "e6a04739-de97-4f51-ecb1-41630aaea59c"
      },
      "outputs": [
        {
          "output_type": "stream",
          "name": "stdout",
          "text": [
            "Collecting pyspark\n",
            "  Downloading pyspark-3.5.3.tar.gz (317.3 MB)\n",
            "\u001b[2K     \u001b[90m━━━━━━━━━━━━━━━━━━━━━━━━━━━━━━━━━━━━━━━━\u001b[0m \u001b[32m317.3/317.3 MB\u001b[0m \u001b[31m4.0 MB/s\u001b[0m eta \u001b[36m0:00:00\u001b[0m\n",
            "\u001b[?25h  Preparing metadata (setup.py) ... \u001b[?25l\u001b[?25hdone\n",
            "Requirement already satisfied: py4j==0.10.9.7 in /usr/local/lib/python3.10/dist-packages (from pyspark) (0.10.9.7)\n",
            "Building wheels for collected packages: pyspark\n",
            "  Building wheel for pyspark (setup.py) ... \u001b[?25l\u001b[?25hdone\n",
            "  Created wheel for pyspark: filename=pyspark-3.5.3-py2.py3-none-any.whl size=317840625 sha256=94366b362800730f9b652d3992da26774c9898305a492d89c970684c60d5bd28\n",
            "  Stored in directory: /root/.cache/pip/wheels/1b/3a/92/28b93e2fbfdbb07509ca4d6f50c5e407f48dce4ddbda69a4ab\n",
            "Successfully built pyspark\n",
            "Installing collected packages: pyspark\n",
            "Successfully installed pyspark-3.5.3\n"
          ]
        }
      ],
      "source": [
        "!pip install pyspark"
      ]
    },
    {
      "cell_type": "code",
      "source": [
        "!pwd"
      ],
      "metadata": {
        "colab": {
          "base_uri": "https://localhost:8080/"
        },
        "id": "LSdZCL9OzNnp",
        "outputId": "35c97ac4-3df1-4efe-9276-959c0ca62171"
      },
      "execution_count": 2,
      "outputs": [
        {
          "output_type": "stream",
          "name": "stdout",
          "text": [
            "/content\n"
          ]
        }
      ]
    },
    {
      "cell_type": "code",
      "source": [
        "!ls -l"
      ],
      "metadata": {
        "colab": {
          "base_uri": "https://localhost:8080/"
        },
        "id": "TLRJnrodzQX8",
        "outputId": "fd5f28c3-42df-41e2-f7b3-e7591bf512c1"
      },
      "execution_count": 3,
      "outputs": [
        {
          "output_type": "stream",
          "name": "stdout",
          "text": [
            "total 4\n",
            "drwxr-xr-x 1 root root 4096 Sep 30 13:24 sample_data\n"
          ]
        }
      ]
    },
    {
      "cell_type": "code",
      "source": [
        "!wget https://raw.githubusercontent.com/pathwaytipsorg/data-engineer/main/data/population_by_age.tsv\n"
      ],
      "metadata": {
        "colab": {
          "base_uri": "https://localhost:8080/"
        },
        "id": "08KJI3TFzWcT",
        "outputId": "9b680b69-c77b-4cdc-a4ce-daaf5f4bf248"
      },
      "execution_count": 4,
      "outputs": [
        {
          "output_type": "stream",
          "name": "stdout",
          "text": [
            "--2024-10-02 13:15:19--  https://raw.githubusercontent.com/pathwaytipsorg/data-engineer/main/data/population_by_age.tsv\n",
            "Resolving raw.githubusercontent.com (raw.githubusercontent.com)... 185.199.111.133, 185.199.108.133, 185.199.110.133, ...\n",
            "Connecting to raw.githubusercontent.com (raw.githubusercontent.com)|185.199.111.133|:443... connected.\n",
            "HTTP request sent, awaiting response... 200 OK\n",
            "Length: 26070 (25K) [text/plain]\n",
            "Saving to: ‘population_by_age.tsv’\n",
            "\n",
            "population_by_age.t 100%[===================>]  25.46K  --.-KB/s    in 0s      \n",
            "\n",
            "2024-10-02 13:15:19 (65.3 MB/s) - ‘population_by_age.tsv’ saved [26070/26070]\n",
            "\n"
          ]
        }
      ]
    },
    {
      "cell_type": "code",
      "source": [
        "from pyspark.sql import SparkSession\n",
        "spark = SparkSession.builder.appName('population_by_age').getOrCreate()\n",
        "\n",
        "df_population = spark.read.csv('population_by_age.tsv',header=True, sep=\"\\t\",inferSchema=True)\n",
        "df_population.show()"
      ],
      "metadata": {
        "colab": {
          "base_uri": "https://localhost:8080/"
        },
        "id": "03YOdNO_zswx",
        "outputId": "ac6c524d-77eb-4f05-8b4e-8a1613da87be"
      },
      "execution_count": 5,
      "outputs": [
        {
          "output_type": "stream",
          "name": "stdout",
          "text": [
            "+------------------+------+-----+------+------+------+-----+------+------+-----+------+------+------+\n",
            "| indic_de,geo\\time| 2008 |2009 | 2010 | 2011 | 2012 |2013 | 2014 | 2015 |2016 | 2017 | 2018 | 2019 |\n",
            "+------------------+------+-----+------+------+------+-----+------+------+-----+------+------+------+\n",
            "|       PC_Y0_14,AD| 14.6 |14.5 | 14.5 | 15.5 | 15.5 |15.5 |    : |    : |   : |    : |    : | 13.9 |\n",
            "|       PC_Y0_14,AL| 24.1 |23.3 | 22.5 | 21.6 | 20.7 |20.1 | 19.6 | 19.0 |18.5 | 18.2 | 17.7 | 17.2 |\n",
            "|       PC_Y0_14,AM| 19.0 |18.6 | 18.3 |    : |    : |   : |    : | 19.4 |19.6 | 20.0 | 20.2 | 20.2 |\n",
            "|       PC_Y0_14,AT| 15.4 |15.1 | 14.9 | 14.7 | 14.6 |14.4 | 14.3 | 14.3 |14.3 | 14.4 | 14.4 | 14.4 |\n",
            "|       PC_Y0_14,AZ| 23.2 |22.6 | 22.6 | 22.3 | 22.2 |22.3 | 22.4 | 22.4 |22.5 | 22.6 | 22.6 | 22.4 |\n",
            "|       PC_Y0_14,BE| 16.9 |16.9 | 16.9 |17.0 b| 17.0 |17.0 | 17.0 | 17.0 |17.0 | 17.0 | 17.0 | 16.9 |\n",
            "|       PC_Y0_14,BG| 13.1 |13.1 | 13.2 | 13.2 | 13.4 |13.6 | 13.7 | 13.9 |14.0 | 14.1 | 14.2 | 14.4 |\n",
            "|       PC_Y0_14,BY| 14.7 |14.6 |    : | 14.9 | 15.1 |15.4 | 15.7 | 16.0 |16.3 | 16.6 | 16.8 | 16.9 |\n",
            "|       PC_Y0_14,CH| 15.5 |15.3 | 15.2 |15.1 b| 15.0 |14.9 | 14.9 | 14.9 |14.9 | 14.9 | 15.0 | 15.0 |\n",
            "|       PC_Y0_14,CY| 18.2 |17.7 | 17.2 | 16.8 | 16.5 |16.4 | 16.3 | 16.4 |16.4 | 16.3 | 16.2 | 16.1 |\n",
            "|       PC_Y0_14,CZ| 14.2 |14.2 | 14.3 | 14.5 | 14.7 |14.8 | 15.0 | 15.2 |15.4 | 15.6 | 15.7 | 15.9 |\n",
            "|       PC_Y0_14,DE| 13.7 |13.6 | 13.5 |13.6 b| 13.4 |13.3 |13.2 b| 13.2 |13.2 | 13.4 | 13.5 | 13.6 |\n",
            "|       PC_Y0_14,DK| 18.4 |18.3 | 18.1 | 17.9 | 17.7 |17.4 | 17.2 | 17.0 |16.8 | 16.7 | 16.6 | 16.5 |\n",
            "|     PC_Y0_14,EA18| 15.4 |15.4 | 15.4 |15.4 b|15.4 b|15.3 |15.3 b|15.2 b|15.1 |15.1 b|15.0 p|15.0 p|\n",
            "|     PC_Y0_14,EA19| 15.5 |15.5 | 15.4 |15.5 b|15.4 b|15.4 |15.3 b|15.3 b|15.2 |15.2 b|15.1 p|15.0 p|\n",
            "|       PC_Y0_14,EE| 14.8 |14.9 | 15.1 | 15.3 | 15.5 |15.7 | 15.8 |15.9 b|16.1 | 16.2 | 16.3 | 16.4 |\n",
            "|       PC_Y0_14,EL| 14.6 |14.6 | 14.6 | 14.6 | 14.7 |14.7 | 14.6 | 14.5 |14.4 | 14.4 | 14.4 | 14.3 |\n",
            "|       PC_Y0_14,ES| 14.6 |14.8 | 14.9 | 15.0 | 15.1 |15.2 | 15.2 | 15.2 |15.1 | 15.1 | 15.0 | 14.8 |\n",
            "|PC_Y0_14,EU27_2007|15.8 b|15.7 |15.7 b|15.7 b|15.7 b|15.7 |15.6 b|15.6 b|15.6 |15.6 b|15.6 p|15.5 p|\n",
            "|PC_Y0_14,EU27_2020|15.5 b|15.4 |15.4 b|15.4 b|15.4 b|15.4 |15.3 b|15.3 b|15.3 |15.2 b|15.2 p|15.2 p|\n",
            "+------------------+------+-----+------+------+------+-----+------+------+-----+------+------+------+\n",
            "only showing top 20 rows\n",
            "\n"
          ]
        }
      ]
    },
    {
      "cell_type": "code",
      "source": [
        "df_population.columns"
      ],
      "metadata": {
        "colab": {
          "base_uri": "https://localhost:8080/"
        },
        "id": "UCYIHqdLN-Rj",
        "outputId": "ed9cf060-416e-403c-d4e9-2af0497545b8"
      },
      "execution_count": 6,
      "outputs": [
        {
          "output_type": "execute_result",
          "data": {
            "text/plain": [
              "['indic_de,geo\\\\time',\n",
              " '2008 ',\n",
              " '2009 ',\n",
              " '2010 ',\n",
              " '2011 ',\n",
              " '2012 ',\n",
              " '2013 ',\n",
              " '2014 ',\n",
              " '2015 ',\n",
              " '2016 ',\n",
              " '2017 ',\n",
              " '2018 ',\n",
              " '2019 ']"
            ]
          },
          "metadata": {},
          "execution_count": 6
        }
      ]
    },
    {
      "cell_type": "code",
      "source": [
        "df_population = df_population.withColumnRenamed('2008 ', 'YEAR_2008')\\\n",
        ".withColumnRenamed('2009 ', 'YEAR_2009')\\\n",
        ".withColumnRenamed('2010 ', 'YEAR_2010')\\\n",
        ".withColumnRenamed('2011 ', 'YEAR_2011')\\\n",
        ".withColumnRenamed('2012 ', 'YEAR_2012')\\\n",
        ".withColumnRenamed('2013 ', 'YEAR_2013')\\\n",
        ".withColumnRenamed('2014 ', 'YEAR_2014')\\\n",
        ".withColumnRenamed('2015 ', 'YEAR_2015')\\\n",
        ".withColumnRenamed('2016 ', 'YEAR_2016')\\\n",
        ".withColumnRenamed('2017 ', 'YEAR_2017')\\\n",
        ".withColumnRenamed('2018 ', 'YEAR_2018')\\\n",
        ".withColumnRenamed('2019 ', 'YEAR_2019')\n",
        "\n",
        "df_population.show()"
      ],
      "metadata": {
        "colab": {
          "base_uri": "https://localhost:8080/"
        },
        "id": "U_iQwuO0CQYW",
        "outputId": "2c954584-d8eb-4e02-b3cf-5d6aa623745c"
      },
      "execution_count": 7,
      "outputs": [
        {
          "output_type": "stream",
          "name": "stdout",
          "text": [
            "+------------------+---------+---------+---------+---------+---------+---------+---------+---------+---------+---------+---------+---------+\n",
            "| indic_de,geo\\time|YEAR_2008|YEAR_2009|YEAR_2010|YEAR_2011|YEAR_2012|YEAR_2013|YEAR_2014|YEAR_2015|YEAR_2016|YEAR_2017|YEAR_2018|YEAR_2019|\n",
            "+------------------+---------+---------+---------+---------+---------+---------+---------+---------+---------+---------+---------+---------+\n",
            "|       PC_Y0_14,AD|    14.6 |    14.5 |    14.5 |    15.5 |    15.5 |    15.5 |       : |       : |       : |       : |       : |    13.9 |\n",
            "|       PC_Y0_14,AL|    24.1 |    23.3 |    22.5 |    21.6 |    20.7 |    20.1 |    19.6 |    19.0 |    18.5 |    18.2 |    17.7 |    17.2 |\n",
            "|       PC_Y0_14,AM|    19.0 |    18.6 |    18.3 |       : |       : |       : |       : |    19.4 |    19.6 |    20.0 |    20.2 |    20.2 |\n",
            "|       PC_Y0_14,AT|    15.4 |    15.1 |    14.9 |    14.7 |    14.6 |    14.4 |    14.3 |    14.3 |    14.3 |    14.4 |    14.4 |    14.4 |\n",
            "|       PC_Y0_14,AZ|    23.2 |    22.6 |    22.6 |    22.3 |    22.2 |    22.3 |    22.4 |    22.4 |    22.5 |    22.6 |    22.6 |    22.4 |\n",
            "|       PC_Y0_14,BE|    16.9 |    16.9 |    16.9 |   17.0 b|    17.0 |    17.0 |    17.0 |    17.0 |    17.0 |    17.0 |    17.0 |    16.9 |\n",
            "|       PC_Y0_14,BG|    13.1 |    13.1 |    13.2 |    13.2 |    13.4 |    13.6 |    13.7 |    13.9 |    14.0 |    14.1 |    14.2 |    14.4 |\n",
            "|       PC_Y0_14,BY|    14.7 |    14.6 |       : |    14.9 |    15.1 |    15.4 |    15.7 |    16.0 |    16.3 |    16.6 |    16.8 |    16.9 |\n",
            "|       PC_Y0_14,CH|    15.5 |    15.3 |    15.2 |   15.1 b|    15.0 |    14.9 |    14.9 |    14.9 |    14.9 |    14.9 |    15.0 |    15.0 |\n",
            "|       PC_Y0_14,CY|    18.2 |    17.7 |    17.2 |    16.8 |    16.5 |    16.4 |    16.3 |    16.4 |    16.4 |    16.3 |    16.2 |    16.1 |\n",
            "|       PC_Y0_14,CZ|    14.2 |    14.2 |    14.3 |    14.5 |    14.7 |    14.8 |    15.0 |    15.2 |    15.4 |    15.6 |    15.7 |    15.9 |\n",
            "|       PC_Y0_14,DE|    13.7 |    13.6 |    13.5 |   13.6 b|    13.4 |    13.3 |   13.2 b|    13.2 |    13.2 |    13.4 |    13.5 |    13.6 |\n",
            "|       PC_Y0_14,DK|    18.4 |    18.3 |    18.1 |    17.9 |    17.7 |    17.4 |    17.2 |    17.0 |    16.8 |    16.7 |    16.6 |    16.5 |\n",
            "|     PC_Y0_14,EA18|    15.4 |    15.4 |    15.4 |   15.4 b|   15.4 b|    15.3 |   15.3 b|   15.2 b|    15.1 |   15.1 b|   15.0 p|   15.0 p|\n",
            "|     PC_Y0_14,EA19|    15.5 |    15.5 |    15.4 |   15.5 b|   15.4 b|    15.4 |   15.3 b|   15.3 b|    15.2 |   15.2 b|   15.1 p|   15.0 p|\n",
            "|       PC_Y0_14,EE|    14.8 |    14.9 |    15.1 |    15.3 |    15.5 |    15.7 |    15.8 |   15.9 b|    16.1 |    16.2 |    16.3 |    16.4 |\n",
            "|       PC_Y0_14,EL|    14.6 |    14.6 |    14.6 |    14.6 |    14.7 |    14.7 |    14.6 |    14.5 |    14.4 |    14.4 |    14.4 |    14.3 |\n",
            "|       PC_Y0_14,ES|    14.6 |    14.8 |    14.9 |    15.0 |    15.1 |    15.2 |    15.2 |    15.2 |    15.1 |    15.1 |    15.0 |    14.8 |\n",
            "|PC_Y0_14,EU27_2007|   15.8 b|    15.7 |   15.7 b|   15.7 b|   15.7 b|    15.7 |   15.6 b|   15.6 b|    15.6 |   15.6 b|   15.6 p|   15.5 p|\n",
            "|PC_Y0_14,EU27_2020|   15.5 b|    15.4 |   15.4 b|   15.4 b|   15.4 b|    15.4 |   15.3 b|   15.3 b|    15.3 |   15.2 b|   15.2 p|   15.2 p|\n",
            "+------------------+---------+---------+---------+---------+---------+---------+---------+---------+---------+---------+---------+---------+\n",
            "only showing top 20 rows\n",
            "\n"
          ]
        }
      ]
    },
    {
      "cell_type": "code",
      "source": [
        "df_population = df_population.withColumnRenamed('indic_de,geo\\\\time', 'Geo_Time')\n",
        "df_population.show()"
      ],
      "metadata": {
        "colab": {
          "base_uri": "https://localhost:8080/"
        },
        "id": "jFmXoNj7VzdQ",
        "outputId": "33d4a426-c0d8-4514-fc18-a47630c2228f"
      },
      "execution_count": 8,
      "outputs": [
        {
          "output_type": "stream",
          "name": "stdout",
          "text": [
            "+------------------+---------+---------+---------+---------+---------+---------+---------+---------+---------+---------+---------+---------+\n",
            "|          Geo_Time|YEAR_2008|YEAR_2009|YEAR_2010|YEAR_2011|YEAR_2012|YEAR_2013|YEAR_2014|YEAR_2015|YEAR_2016|YEAR_2017|YEAR_2018|YEAR_2019|\n",
            "+------------------+---------+---------+---------+---------+---------+---------+---------+---------+---------+---------+---------+---------+\n",
            "|       PC_Y0_14,AD|    14.6 |    14.5 |    14.5 |    15.5 |    15.5 |    15.5 |       : |       : |       : |       : |       : |    13.9 |\n",
            "|       PC_Y0_14,AL|    24.1 |    23.3 |    22.5 |    21.6 |    20.7 |    20.1 |    19.6 |    19.0 |    18.5 |    18.2 |    17.7 |    17.2 |\n",
            "|       PC_Y0_14,AM|    19.0 |    18.6 |    18.3 |       : |       : |       : |       : |    19.4 |    19.6 |    20.0 |    20.2 |    20.2 |\n",
            "|       PC_Y0_14,AT|    15.4 |    15.1 |    14.9 |    14.7 |    14.6 |    14.4 |    14.3 |    14.3 |    14.3 |    14.4 |    14.4 |    14.4 |\n",
            "|       PC_Y0_14,AZ|    23.2 |    22.6 |    22.6 |    22.3 |    22.2 |    22.3 |    22.4 |    22.4 |    22.5 |    22.6 |    22.6 |    22.4 |\n",
            "|       PC_Y0_14,BE|    16.9 |    16.9 |    16.9 |   17.0 b|    17.0 |    17.0 |    17.0 |    17.0 |    17.0 |    17.0 |    17.0 |    16.9 |\n",
            "|       PC_Y0_14,BG|    13.1 |    13.1 |    13.2 |    13.2 |    13.4 |    13.6 |    13.7 |    13.9 |    14.0 |    14.1 |    14.2 |    14.4 |\n",
            "|       PC_Y0_14,BY|    14.7 |    14.6 |       : |    14.9 |    15.1 |    15.4 |    15.7 |    16.0 |    16.3 |    16.6 |    16.8 |    16.9 |\n",
            "|       PC_Y0_14,CH|    15.5 |    15.3 |    15.2 |   15.1 b|    15.0 |    14.9 |    14.9 |    14.9 |    14.9 |    14.9 |    15.0 |    15.0 |\n",
            "|       PC_Y0_14,CY|    18.2 |    17.7 |    17.2 |    16.8 |    16.5 |    16.4 |    16.3 |    16.4 |    16.4 |    16.3 |    16.2 |    16.1 |\n",
            "|       PC_Y0_14,CZ|    14.2 |    14.2 |    14.3 |    14.5 |    14.7 |    14.8 |    15.0 |    15.2 |    15.4 |    15.6 |    15.7 |    15.9 |\n",
            "|       PC_Y0_14,DE|    13.7 |    13.6 |    13.5 |   13.6 b|    13.4 |    13.3 |   13.2 b|    13.2 |    13.2 |    13.4 |    13.5 |    13.6 |\n",
            "|       PC_Y0_14,DK|    18.4 |    18.3 |    18.1 |    17.9 |    17.7 |    17.4 |    17.2 |    17.0 |    16.8 |    16.7 |    16.6 |    16.5 |\n",
            "|     PC_Y0_14,EA18|    15.4 |    15.4 |    15.4 |   15.4 b|   15.4 b|    15.3 |   15.3 b|   15.2 b|    15.1 |   15.1 b|   15.0 p|   15.0 p|\n",
            "|     PC_Y0_14,EA19|    15.5 |    15.5 |    15.4 |   15.5 b|   15.4 b|    15.4 |   15.3 b|   15.3 b|    15.2 |   15.2 b|   15.1 p|   15.0 p|\n",
            "|       PC_Y0_14,EE|    14.8 |    14.9 |    15.1 |    15.3 |    15.5 |    15.7 |    15.8 |   15.9 b|    16.1 |    16.2 |    16.3 |    16.4 |\n",
            "|       PC_Y0_14,EL|    14.6 |    14.6 |    14.6 |    14.6 |    14.7 |    14.7 |    14.6 |    14.5 |    14.4 |    14.4 |    14.4 |    14.3 |\n",
            "|       PC_Y0_14,ES|    14.6 |    14.8 |    14.9 |    15.0 |    15.1 |    15.2 |    15.2 |    15.2 |    15.1 |    15.1 |    15.0 |    14.8 |\n",
            "|PC_Y0_14,EU27_2007|   15.8 b|    15.7 |   15.7 b|   15.7 b|   15.7 b|    15.7 |   15.6 b|   15.6 b|    15.6 |   15.6 b|   15.6 p|   15.5 p|\n",
            "|PC_Y0_14,EU27_2020|   15.5 b|    15.4 |   15.4 b|   15.4 b|   15.4 b|    15.4 |   15.3 b|   15.3 b|    15.3 |   15.2 b|   15.2 p|   15.2 p|\n",
            "+------------------+---------+---------+---------+---------+---------+---------+---------+---------+---------+---------+---------+---------+\n",
            "only showing top 20 rows\n",
            "\n"
          ]
        }
      ]
    },
    {
      "cell_type": "code",
      "source": [
        "from pyspark.sql.functions import *\n",
        "\n",
        "df_population = df_population.withColumn('age_group',regexp_replace(split(df_population['Geo_Time'],',')[0],'PC_','')).withColumn('country_code',split(df_population['Geo_Time'],',')[1])\n",
        "df_population.show(5)\n"
      ],
      "metadata": {
        "colab": {
          "base_uri": "https://localhost:8080/"
        },
        "id": "pCVQFZIPFZvk",
        "outputId": "10e98de1-4233-4e74-deb3-68e47c5deceb"
      },
      "execution_count": 9,
      "outputs": [
        {
          "output_type": "stream",
          "name": "stdout",
          "text": [
            "+-----------+---------+---------+---------+---------+---------+---------+---------+---------+---------+---------+---------+---------+---------+------------+\n",
            "|   Geo_Time|YEAR_2008|YEAR_2009|YEAR_2010|YEAR_2011|YEAR_2012|YEAR_2013|YEAR_2014|YEAR_2015|YEAR_2016|YEAR_2017|YEAR_2018|YEAR_2019|age_group|country_code|\n",
            "+-----------+---------+---------+---------+---------+---------+---------+---------+---------+---------+---------+---------+---------+---------+------------+\n",
            "|PC_Y0_14,AD|    14.6 |    14.5 |    14.5 |    15.5 |    15.5 |    15.5 |       : |       : |       : |       : |       : |    13.9 |    Y0_14|          AD|\n",
            "|PC_Y0_14,AL|    24.1 |    23.3 |    22.5 |    21.6 |    20.7 |    20.1 |    19.6 |    19.0 |    18.5 |    18.2 |    17.7 |    17.2 |    Y0_14|          AL|\n",
            "|PC_Y0_14,AM|    19.0 |    18.6 |    18.3 |       : |       : |       : |       : |    19.4 |    19.6 |    20.0 |    20.2 |    20.2 |    Y0_14|          AM|\n",
            "|PC_Y0_14,AT|    15.4 |    15.1 |    14.9 |    14.7 |    14.6 |    14.4 |    14.3 |    14.3 |    14.3 |    14.4 |    14.4 |    14.4 |    Y0_14|          AT|\n",
            "|PC_Y0_14,AZ|    23.2 |    22.6 |    22.6 |    22.3 |    22.2 |    22.3 |    22.4 |    22.4 |    22.5 |    22.6 |    22.6 |    22.4 |    Y0_14|          AZ|\n",
            "+-----------+---------+---------+---------+---------+---------+---------+---------+---------+---------+---------+---------+---------+---------+------------+\n",
            "only showing top 5 rows\n",
            "\n"
          ]
        }
      ]
    },
    {
      "cell_type": "code",
      "source": [
        "df_population = df_population.select(col('country_code'),col('age_group'),col('YEAR_2019').alias('percentage_2019'))\n",
        "df_population.show(5)\n"
      ],
      "metadata": {
        "colab": {
          "base_uri": "https://localhost:8080/"
        },
        "id": "S_-BT7YzKus7",
        "outputId": "da6a1ee5-00c1-4a6e-cbff-b6655e8f004a"
      },
      "execution_count": 10,
      "outputs": [
        {
          "output_type": "stream",
          "name": "stdout",
          "text": [
            "+------------+---------+---------------+\n",
            "|country_code|age_group|percentage_2019|\n",
            "+------------+---------+---------------+\n",
            "|          AD|    Y0_14|          13.9 |\n",
            "|          AL|    Y0_14|          17.2 |\n",
            "|          AM|    Y0_14|          20.2 |\n",
            "|          AT|    Y0_14|          14.4 |\n",
            "|          AZ|    Y0_14|          22.4 |\n",
            "+------------+---------+---------------+\n",
            "only showing top 5 rows\n",
            "\n"
          ]
        }
      ]
    },
    {
      "cell_type": "code",
      "source": [
        "df_population.select(\"age_group\").distinct().show()"
      ],
      "metadata": {
        "id": "-FeJi6TULbDH",
        "colab": {
          "base_uri": "https://localhost:8080/"
        },
        "outputId": "8e18eaa8-cdf0-4c2f-d56c-b24d059fbc52"
      },
      "execution_count": 13,
      "outputs": [
        {
          "output_type": "stream",
          "name": "stdout",
          "text": [
            "+---------+\n",
            "|age_group|\n",
            "+---------+\n",
            "|   Y65_79|\n",
            "|   Y50_64|\n",
            "|   Y25_49|\n",
            "|  Y80_MAX|\n",
            "|   Y15_24|\n",
            "|    Y0_14|\n",
            "+---------+\n",
            "\n"
          ]
        }
      ]
    },
    {
      "cell_type": "code",
      "source": [
        "df_population.select(\"country_code\").distinct().show()"
      ],
      "metadata": {
        "colab": {
          "base_uri": "https://localhost:8080/"
        },
        "id": "7rQDkGsMZfZe",
        "outputId": "c91597cf-fe80-4742-f8a7-594e57872446"
      },
      "execution_count": 14,
      "outputs": [
        {
          "output_type": "stream",
          "name": "stdout",
          "text": [
            "+------------+\n",
            "|country_code|\n",
            "+------------+\n",
            "|          LT|\n",
            "|          AZ|\n",
            "|          FI|\n",
            "|          UA|\n",
            "|          RO|\n",
            "|          NL|\n",
            "|          AM|\n",
            "|          PL|\n",
            "|          MK|\n",
            "|          EE|\n",
            "|          SM|\n",
            "|          AT|\n",
            "|          RU|\n",
            "|          AD|\n",
            "|          HR|\n",
            "|          LI|\n",
            "|          CZ|\n",
            "|          PT|\n",
            "|   EU27_2007|\n",
            "|          MT|\n",
            "+------------+\n",
            "only showing top 20 rows\n",
            "\n"
          ]
        }
      ]
    },
    {
      "cell_type": "code",
      "source": [
        "df_population.select(\"percentage_2019\").distinct().show()"
      ],
      "metadata": {
        "colab": {
          "base_uri": "https://localhost:8080/"
        },
        "id": "kwvBEnkOZkLr",
        "outputId": "448b6cd2-6baa-4ce2-c824-1f03efd4b4a1"
      },
      "execution_count": 15,
      "outputs": [
        {
          "output_type": "stream",
          "name": "stdout",
          "text": [
            "+---------------+\n",
            "|percentage_2019|\n",
            "+---------------+\n",
            "|             : |\n",
            "|          12.8 |\n",
            "|         18.0 p|\n",
            "|           8.9 |\n",
            "|          16.1 |\n",
            "|         15.5 p|\n",
            "|          15.4 |\n",
            "|          13.0 |\n",
            "|          34.1 |\n",
            "|           5.1 |\n",
            "|          14.1 |\n",
            "|          13.7 |\n",
            "|          11.2 |\n",
            "|          21.6 |\n",
            "|          20.6 |\n",
            "|           5.6 |\n",
            "|           4.4 |\n",
            "|           2.5 |\n",
            "|          16.5 |\n",
            "|          15.7 |\n",
            "+---------------+\n",
            "only showing top 20 rows\n",
            "\n"
          ]
        }
      ]
    },
    {
      "cell_type": "code",
      "source": [
        " df_population.createOrReplaceTempView(\"pop_by_age_2019\")\n",
        " df_cleaned = spark.sql(\"select country_code, age_group,cast(regexp_replace(percentage_2019,'[a-z]','') as decimal(4,2))as percentage_2019 from pop_by_age_2019 where length(country_code)=2\")\n",
        " df_cleaned.show()"
      ],
      "metadata": {
        "colab": {
          "base_uri": "https://localhost:8080/"
        },
        "id": "kdHu2PuraK5T",
        "outputId": "1c5fd21d-89dd-4b2e-8392-b3bde9086318"
      },
      "execution_count": 19,
      "outputs": [
        {
          "output_type": "stream",
          "name": "stdout",
          "text": [
            "+------------+---------+---------------+\n",
            "|country_code|age_group|percentage_2019|\n",
            "+------------+---------+---------------+\n",
            "|          AD|    Y0_14|          13.90|\n",
            "|          AL|    Y0_14|          17.20|\n",
            "|          AM|    Y0_14|          20.20|\n",
            "|          AT|    Y0_14|          14.40|\n",
            "|          AZ|    Y0_14|          22.40|\n",
            "|          BE|    Y0_14|          16.90|\n",
            "|          BG|    Y0_14|          14.40|\n",
            "|          BY|    Y0_14|          16.90|\n",
            "|          CH|    Y0_14|          15.00|\n",
            "|          CY|    Y0_14|          16.10|\n",
            "|          CZ|    Y0_14|          15.90|\n",
            "|          DE|    Y0_14|          13.60|\n",
            "|          DK|    Y0_14|          16.50|\n",
            "|          EE|    Y0_14|          16.40|\n",
            "|          EL|    Y0_14|          14.30|\n",
            "|          ES|    Y0_14|          14.80|\n",
            "|          FI|    Y0_14|          16.00|\n",
            "|          FR|    Y0_14|          18.00|\n",
            "|          FX|    Y0_14|           NULL|\n",
            "|          GE|    Y0_14|          20.30|\n",
            "+------------+---------+---------------+\n",
            "only showing top 20 rows\n",
            "\n"
          ]
        }
      ]
    },
    {
      "cell_type": "code",
      "source": [
        "pivoted_df_population = df_cleaned.groupBy(\"country_code\").pivot(\"age_group\").sum(\"percentage_2019\")\n",
        "pivoted_df_population.show()\n"
      ],
      "metadata": {
        "colab": {
          "base_uri": "https://localhost:8080/"
        },
        "id": "hrxUbKZCllqF",
        "outputId": "3943315b-d0ff-4d7a-a27a-2e0df71ecc19"
      },
      "execution_count": 25,
      "outputs": [
        {
          "output_type": "stream",
          "name": "stdout",
          "text": [
            "+------------+-----+------+------+------+------+-------+\n",
            "|country_code|Y0_14|Y15_24|Y25_49|Y50_64|Y65_79|Y80_MAX|\n",
            "+------------+-----+------+------+------+------+-------+\n",
            "|          LT|15.10| 10.50| 32.70| 21.90| 14.00|   5.80|\n",
            "|          AZ|22.40| 14.10| 39.10| 17.60|  5.30|   1.50|\n",
            "|          FI|16.00| 11.20| 31.20| 19.90| 16.30|   5.50|\n",
            "|          UA|15.40|  9.60| 37.60| 20.60| 12.50|   4.30|\n",
            "|          RO|15.70| 10.60| 35.60| 19.70| 13.90|   4.70|\n",
            "|          NL|15.90| 12.30| 31.80| 20.90| 14.60|   4.60|\n",
            "|          AM|20.20| 11.80| 36.90| 19.10|  9.00|   3.00|\n",
            "|          PL|15.40| 10.30| 37.00| 19.70| 13.30|   4.40|\n",
            "|          MK|16.40| 12.40| 37.50| 19.70| 11.50|   2.50|\n",
            "|          EE|16.40|  9.50| 34.90| 19.40| 14.10|   5.60|\n",
            "|          SM| NULL|  NULL|  NULL|  NULL|  NULL|   NULL|\n",
            "|          AT|14.40| 10.90| 34.00| 21.70| 13.80|   5.00|\n",
            "|          RU| NULL|  NULL|  NULL|  NULL|  NULL|   NULL|\n",
            "|          AD|13.90| 10.60| 39.40| 22.50| 10.20|   3.40|\n",
            "|          LI|14.70| 10.90| 33.30| 23.20| 14.10|   3.80|\n",
            "|          HR|14.40| 10.90| 32.50| 21.60| 15.20|   5.30|\n",
            "|          CZ|15.90|  9.10| 36.70| 18.80| 15.50|   4.10|\n",
            "|          PT|13.70| 10.60| 32.90| 20.90| 15.40|   6.40|\n",
            "|          MT|13.70| 11.00| 38.50| 18.20| 14.50|   4.20|\n",
            "|          BY|16.90|  9.90| 36.60| 21.30| 11.30|   3.90|\n",
            "+------------+-----+------+------+------+------+-------+\n",
            "only showing top 20 rows\n",
            "\n"
          ]
        }
      ]
    },
    {
      "cell_type": "code",
      "source": [
        "df_filtered = df_population.filter(length(col(\"country_code\")) == 2)\n",
        "df_filtered.show()"
      ],
      "metadata": {
        "colab": {
          "base_uri": "https://localhost:8080/"
        },
        "id": "uFlxOjzvrlLe",
        "outputId": "cc1dc93a-d1d4-4356-d797-aeec7a8c5cff"
      },
      "execution_count": 27,
      "outputs": [
        {
          "output_type": "stream",
          "name": "stdout",
          "text": [
            "+------------+---------+---------------+\n",
            "|country_code|age_group|percentage_2019|\n",
            "+------------+---------+---------------+\n",
            "|          AD|    Y0_14|          13.9 |\n",
            "|          AL|    Y0_14|          17.2 |\n",
            "|          AM|    Y0_14|          20.2 |\n",
            "|          AT|    Y0_14|          14.4 |\n",
            "|          AZ|    Y0_14|          22.4 |\n",
            "|          BE|    Y0_14|          16.9 |\n",
            "|          BG|    Y0_14|          14.4 |\n",
            "|          BY|    Y0_14|          16.9 |\n",
            "|          CH|    Y0_14|          15.0 |\n",
            "|          CY|    Y0_14|          16.1 |\n",
            "|          CZ|    Y0_14|          15.9 |\n",
            "|          DE|    Y0_14|          13.6 |\n",
            "|          DK|    Y0_14|          16.5 |\n",
            "|          EE|    Y0_14|          16.4 |\n",
            "|          EL|    Y0_14|          14.3 |\n",
            "|          ES|    Y0_14|          14.8 |\n",
            "|          FI|    Y0_14|          16.0 |\n",
            "|          FR|    Y0_14|         18.0 p|\n",
            "|          FX|    Y0_14|             : |\n",
            "|          GE|    Y0_14|          20.3 |\n",
            "+------------+---------+---------------+\n",
            "only showing top 20 rows\n",
            "\n"
          ]
        }
      ]
    },
    {
      "cell_type": "code",
      "source": [
        "df_cleaned = df_filtered.select(col(\"country_code\"),col(\"age_group\"),regexp_replace(col(\"percentage_2019\"), '[a-z]', '').cast(\"decimal(4,2)\").alias(\"percentage_2019\"))\n",
        "df_cleaned.show()"
      ],
      "metadata": {
        "colab": {
          "base_uri": "https://localhost:8080/"
        },
        "id": "oWzS1uXNr5Ip",
        "outputId": "b84ed50e-73c0-4dc7-d77a-6ed2dd0669c8"
      },
      "execution_count": 28,
      "outputs": [
        {
          "output_type": "stream",
          "name": "stdout",
          "text": [
            "+------------+---------+---------------+\n",
            "|country_code|age_group|percentage_2019|\n",
            "+------------+---------+---------------+\n",
            "|          AD|    Y0_14|          13.90|\n",
            "|          AL|    Y0_14|          17.20|\n",
            "|          AM|    Y0_14|          20.20|\n",
            "|          AT|    Y0_14|          14.40|\n",
            "|          AZ|    Y0_14|          22.40|\n",
            "|          BE|    Y0_14|          16.90|\n",
            "|          BG|    Y0_14|          14.40|\n",
            "|          BY|    Y0_14|          16.90|\n",
            "|          CH|    Y0_14|          15.00|\n",
            "|          CY|    Y0_14|          16.10|\n",
            "|          CZ|    Y0_14|          15.90|\n",
            "|          DE|    Y0_14|          13.60|\n",
            "|          DK|    Y0_14|          16.50|\n",
            "|          EE|    Y0_14|          16.40|\n",
            "|          EL|    Y0_14|          14.30|\n",
            "|          ES|    Y0_14|          14.80|\n",
            "|          FI|    Y0_14|          16.00|\n",
            "|          FR|    Y0_14|          18.00|\n",
            "|          FX|    Y0_14|           NULL|\n",
            "|          GE|    Y0_14|          20.30|\n",
            "+------------+---------+---------------+\n",
            "only showing top 20 rows\n",
            "\n"
          ]
        }
      ]
    }
  ]
}