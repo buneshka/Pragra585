{
 "cells": [
  {
   "cell_type": "code",
   "execution_count": 0,
   "metadata": {
    "application/vnd.databricks.v1+cell": {
     "cellMetadata": {
      "byteLimit": 2048000,
      "rowLimit": 10000
     },
     "inputWidgets": {},
     "nuid": "37b6ded0-ff4c-4dea-b839-80bdcdd2bbab",
     "showTitle": false,
     "title": ""
    }
   },
   "outputs": [],
   "source": [
    "spark.conf.set(\n",
    "    \"fs.azure.account.key.bp040storage.dfs.core.windows.net\",\n",
    "    \"kiENG28kPnyzB+dA3xwAxlcWC5eHv56ldDJidJPlneDLglk3zhWyPkLZL+TOOzfqiyFn7i9Ys7x3+AStxKkaaQ==\")"
   ]
  },
  {
   "cell_type": "code",
   "execution_count": 0,
   "metadata": {
    "application/vnd.databricks.v1+cell": {
     "cellMetadata": {
      "byteLimit": 2048000,
      "rowLimit": 10000
     },
     "inputWidgets": {},
     "nuid": "128d04f4-e01e-4fe7-bc78-0656a64e47ce",
     "showTitle": false,
     "title": ""
    }
   },
   "outputs": [
    {
     "output_type": "display_data",
     "data": {
      "text/html": [
       "<style scoped>\n",
       "  .table-result-container {\n",
       "    max-height: 300px;\n",
       "    overflow: auto;\n",
       "  }\n",
       "  table, th, td {\n",
       "    border: 1px solid black;\n",
       "    border-collapse: collapse;\n",
       "  }\n",
       "  th, td {\n",
       "    padding: 5px;\n",
       "  }\n",
       "  th {\n",
       "    text-align: left;\n",
       "  }\n",
       "</style><div class='table-result-container'><table class='table-result'><thead style='background-color: white'><tr><th>path</th><th>name</th><th>size</th><th>modificationTime</th></tr></thead><tbody><tr><td>abfss://bp040container@bp040storage.dfs.core.windows.net/raw/</td><td>raw/</td><td>0</td><td>1729970244000</td></tr></tbody></table></div>"
      ]
     },
     "metadata": {
      "application/vnd.databricks.v1+output": {
       "addedWidgets": {},
       "aggData": [],
       "aggError": "",
       "aggOverflow": false,
       "aggSchema": [],
       "aggSeriesLimitReached": false,
       "aggType": "",
       "arguments": {},
       "columnCustomDisplayInfos": {},
       "data": [
        [
         "abfss://bp040container@bp040storage.dfs.core.windows.net/raw/",
         "raw/",
         0,
         1729970244000
        ]
       ],
       "datasetInfos": [],
       "dbfsResultPath": null,
       "isJsonSchema": true,
       "metadata": {},
       "overflow": false,
       "plotOptions": {
        "customPlotOptions": {},
        "displayType": "table",
        "pivotAggregation": null,
        "pivotColumns": null,
        "xColumns": null,
        "yColumns": null
       },
       "removedWidgets": [],
       "schema": [
        {
         "metadata": "{}",
         "name": "path",
         "type": "\"string\""
        },
        {
         "metadata": "{}",
         "name": "name",
         "type": "\"string\""
        },
        {
         "metadata": "{}",
         "name": "size",
         "type": "\"long\""
        },
        {
         "metadata": "{}",
         "name": "modificationTime",
         "type": "\"long\""
        }
       ],
       "type": "table"
      }
     },
     "output_type": "display_data"
    }
   ],
   "source": [
    "display(dbutils.fs.ls(\"abfss://bp040container@bp040storage.dfs.core.windows.net\"))"
   ]
  },
  {
   "cell_type": "code",
   "execution_count": 0,
   "metadata": {
    "application/vnd.databricks.v1+cell": {
     "cellMetadata": {
      "byteLimit": 2048000,
      "rowLimit": 10000
     },
     "inputWidgets": {},
     "nuid": "fa8f27fb-8880-4ab6-9dc0-c967433af90d",
     "showTitle": false,
     "title": ""
    }
   },
   "outputs": [
    {
     "output_type": "stream",
     "name": "stdout",
     "output_type": "stream",
     "text": [
      "+-----------------+-----+-----+-----+-----+-----+-----+-----+-----+-----+-----+-----+-----+\n|indic_de,geo\\time|2008 |2009 |2010 |2011 |2012 |2013 |2014 |2015 |2016 |2017 |2018 |2019 |\n+-----------------+-----+-----+-----+-----+-----+-----+-----+-----+-----+-----+-----+-----+\n|      PC_Y0_14,AD|14.6 |14.5 |14.5 |15.5 |15.5 |15.5 |   : |   : |   : |   : |   : |13.9 |\n|      PC_Y0_14,AL|24.1 |23.3 |22.5 |21.6 |20.7 |20.1 |19.6 |19.0 |18.5 |18.2 |17.7 |17.2 |\n|      PC_Y0_14,AM|19.0 |18.6 |18.3 |   : |   : |   : |   : |19.4 |19.6 |20.0 |20.2 |20.2 |\n|      PC_Y0_14,AT|15.4 |15.1 |14.9 |14.7 |14.6 |14.4 |14.3 |14.3 |14.3 |14.4 |14.4 |14.4 |\n|      PC_Y0_14,AZ|23.2 |22.6 |22.6 |22.3 |22.2 |22.3 |22.4 |22.4 |22.5 |22.6 |22.6 |22.4 |\n+-----------------+-----+-----+-----+-----+-----+-----+-----+-----+-----+-----+-----+-----+\nonly showing top 5 rows\n\n"
     ]
    }
   ],
   "source": [
    "df = spark.read.csv(\"abfss://bp040container@bp040storage.dfs.core.windows.net/raw/population_by_age.tsv\", header=True,sep=\"\\t\",inferSchema=\"true\");\n",
    "df.show(5)"
   ]
  },
  {
   "cell_type": "code",
   "execution_count": 0,
   "metadata": {
    "application/vnd.databricks.v1+cell": {
     "cellMetadata": {
      "byteLimit": 2048000,
      "rowLimit": 10000
     },
     "inputWidgets": {},
     "nuid": "7265c6a7-5670-427c-923e-ba4f02471fac",
     "showTitle": false,
     "title": ""
    }
   },
   "outputs": [
    {
     "output_type": "stream",
     "name": "stdout",
     "output_type": "stream",
     "text": [
      "+-----------+-----+-----+-----+-----+-----+-----+-----+-----+-----+-----+-----+-----+\n|   Geo_Time|2008 |2009 |2010 |2011 |2012 |2013 |2014 |2015 |2016 |2017 |2018 |2019 |\n+-----------+-----+-----+-----+-----+-----+-----+-----+-----+-----+-----+-----+-----+\n|PC_Y0_14,AD|14.6 |14.5 |14.5 |15.5 |15.5 |15.5 |   : |   : |   : |   : |   : |13.9 |\n|PC_Y0_14,AL|24.1 |23.3 |22.5 |21.6 |20.7 |20.1 |19.6 |19.0 |18.5 |18.2 |17.7 |17.2 |\n|PC_Y0_14,AM|19.0 |18.6 |18.3 |   : |   : |   : |   : |19.4 |19.6 |20.0 |20.2 |20.2 |\n|PC_Y0_14,AT|15.4 |15.1 |14.9 |14.7 |14.6 |14.4 |14.3 |14.3 |14.3 |14.4 |14.4 |14.4 |\n|PC_Y0_14,AZ|23.2 |22.6 |22.6 |22.3 |22.2 |22.3 |22.4 |22.4 |22.5 |22.6 |22.6 |22.4 |\n+-----------+-----+-----+-----+-----+-----+-----+-----+-----+-----+-----+-----+-----+\nonly showing top 5 rows\n\n"
     ]
    }
   ],
   "source": [
    "df_population = df.withColumnRenamed('indic_de,geo\\\\time', 'Geo_Time')\n",
    "df_population.show(5)"
   ]
  },
  {
   "cell_type": "code",
   "execution_count": 0,
   "metadata": {
    "application/vnd.databricks.v1+cell": {
     "cellMetadata": {
      "byteLimit": 2048000,
      "rowLimit": 10000
     },
     "inputWidgets": {},
     "nuid": "77786635-8281-49d8-b571-cd881d91fe1e",
     "showTitle": false,
     "title": ""
    }
   },
   "outputs": [
    {
     "output_type": "stream",
     "name": "stdout",
     "output_type": "stream",
     "text": [
      "+-----------+-----+-----+-----+-----+-----+-----+-----+-----+-----+-----+-----+-----+---------+------------+\n|   Geo_Time|2008 |2009 |2010 |2011 |2012 |2013 |2014 |2015 |2016 |2017 |2018 |2019 |age_group|country_code|\n+-----------+-----+-----+-----+-----+-----+-----+-----+-----+-----+-----+-----+-----+---------+------------+\n|PC_Y0_14,AD|14.6 |14.5 |14.5 |15.5 |15.5 |15.5 |   : |   : |   : |   : |   : |13.9 |    Y0_14|          AD|\n|PC_Y0_14,AL|24.1 |23.3 |22.5 |21.6 |20.7 |20.1 |19.6 |19.0 |18.5 |18.2 |17.7 |17.2 |    Y0_14|          AL|\n|PC_Y0_14,AM|19.0 |18.6 |18.3 |   : |   : |   : |   : |19.4 |19.6 |20.0 |20.2 |20.2 |    Y0_14|          AM|\n|PC_Y0_14,AT|15.4 |15.1 |14.9 |14.7 |14.6 |14.4 |14.3 |14.3 |14.3 |14.4 |14.4 |14.4 |    Y0_14|          AT|\n|PC_Y0_14,AZ|23.2 |22.6 |22.6 |22.3 |22.2 |22.3 |22.4 |22.4 |22.5 |22.6 |22.6 |22.4 |    Y0_14|          AZ|\n+-----------+-----+-----+-----+-----+-----+-----+-----+-----+-----+-----+-----+-----+---------+------------+\nonly showing top 5 rows\n\n"
     ]
    }
   ],
   "source": [
    "from pyspark.sql.functions import *\n",
    "\n",
    "df_population = df_population.withColumn('age_group',regexp_replace(split(df_population['Geo_Time'],',')[0],'PC_','')).withColumn('country_code',split(df_population['Geo_Time'],',')[1])\n",
    "df_population.show(5)\n"
   ]
  },
  {
   "cell_type": "code",
   "execution_count": 0,
   "metadata": {
    "application/vnd.databricks.v1+cell": {
     "cellMetadata": {
      "byteLimit": 2048000,
      "rowLimit": 10000
     },
     "inputWidgets": {},
     "nuid": "04a60d71-192c-4ac4-ad4c-9fd082905330",
     "showTitle": false,
     "title": ""
    }
   },
   "outputs": [],
   "source": [
    "df_population.write.mode(\"overwrite\").partitionBy(\"country_code\",\"age_group\",).format(\"parquet\").save(\"abfss://processed1@bp040storage.dfs.core.windows.net/population/partition/populationc_country_code\")"
   ]
  }
 ],
 "metadata": {
  "application/vnd.databricks.v1+notebook": {
   "dashboards": [],
   "environmentMetadata": {
    "base_environment": "",
    "client": "1"
   },
   "language": "python",
   "notebookMetadata": {
    "pythonIndentUnit": 4
   },
   "notebookName": "EX3 POPULATION",
   "widgets": {}
  },
  "language_info": {
   "name": "python"
  }
 },
 "nbformat": 4,
 "nbformat_minor": 0
}
